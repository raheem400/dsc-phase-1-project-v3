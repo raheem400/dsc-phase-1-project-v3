


# Your code here - remember to use markdown cells for comments as well!


"""
Analysis of accidents in aviation

"""


import pandas as pd
import numpy as np 
import matplotlib.pyplot as plt
import seaborn as sns

%matplotlib inline


df = pd.read_csv('Aviation_Data.csv')



